{
 "cells": [
  {
   "cell_type": "code",
   "execution_count": 1,
   "metadata": {},
   "outputs": [],
   "source": [
    "import numpy as np\n",
    "from tank import Tank\n",
    "import pandas as pd\n",
    "import seaborn as sns\n",
    "import os "
   ]
  },
  {
   "cell_type": "code",
   "execution_count": 2,
   "metadata": {},
   "outputs": [],
   "source": [
    "myTank = Tank()"
   ]
  },
  {
   "cell_type": "code",
   "execution_count": 3,
   "metadata": {},
   "outputs": [
    {
     "data": {
      "text/plain": [
       "{'height': 1.0,\n",
       " 'inflow': 0.05,\n",
       " 'valve_coef': 1.0,\n",
       " 'outlet_area': 0.01,\n",
       " 'time': 0,\n",
       " 'outflow': 3.132091952673165,\n",
       " 'history': array([[0.        , 1.        , 0.05      , 3.13209195]])}"
      ]
     },
     "execution_count": 3,
     "metadata": {},
     "output_type": "execute_result"
    }
   ],
   "source": [
    "myTank.__dict__"
   ]
  },
  {
   "cell_type": "code",
   "execution_count": 4,
   "metadata": {},
   "outputs": [
    {
     "data": {
      "text/plain": [
       "{'height': 1.0,\n",
       " 'inflow': 0.05,\n",
       " 'valve_coef': 1.0,\n",
       " 'outlet_area': 0.01,\n",
       " 'time': 0,\n",
       " 'outflow': 3.132091952673165,\n",
       " 'history': array([[0.        , 1.        , 0.05      , 3.13209195]])}"
      ]
     },
     "execution_count": 4,
     "metadata": {},
     "output_type": "execute_result"
    }
   ],
   "source": [
    "myTank.__dict__"
   ]
  },
  {
   "cell_type": "code",
   "execution_count": 5,
   "metadata": {},
   "outputs": [
    {
     "data": {
      "text/plain": [
       "2"
      ]
     },
     "execution_count": 5,
     "metadata": {},
     "output_type": "execute_result"
    }
   ],
   "source": [
    "len(myTank.history.shape)"
   ]
  },
  {
   "cell_type": "code",
   "execution_count": 6,
   "metadata": {},
   "outputs": [],
   "source": [
    "myTank.update_history(100)"
   ]
  },
  {
   "cell_type": "code",
   "execution_count": 7,
   "metadata": {},
   "outputs": [
    {
     "data": {
      "text/plain": [
       "{'height': 0.00025484199796126404,\n",
       " 'inflow': 0.05,\n",
       " 'valve_coef': 1.0,\n",
       " 'outlet_area': 0.01,\n",
       " 'time': 100,\n",
       " 'outflow': 0.05,\n",
       " 'history': array([[0.00000000e+00, 1.00000000e+00, 5.00000000e-02, 3.13209195e+00],\n",
       "        [1.00000000e+00, 9.69179080e-01, 5.00000000e-02, 3.13209195e+00],\n",
       "        [2.00000000e+00, 9.38844608e-01, 5.00000000e-02, 3.08344722e+00],\n",
       "        [3.00000000e+00, 9.08996518e-01, 5.00000000e-02, 3.03480899e+00],\n",
       "        [4.00000000e+00, 8.79634744e-01, 5.00000000e-02, 2.98617746e+00],\n",
       "        [5.00000000e+00, 8.50759215e-01, 5.00000000e-02, 2.93755287e+00],\n",
       "        [6.00000000e+00, 8.22369861e-01, 5.00000000e-02, 2.88893543e+00],\n",
       "        [7.00000000e+00, 7.94466607e-01, 5.00000000e-02, 2.84032539e+00],\n",
       "        [8.00000000e+00, 7.67049377e-01, 5.00000000e-02, 2.79172302e+00],\n",
       "        [9.00000000e+00, 7.40118091e-01, 5.00000000e-02, 2.74312858e+00],\n",
       "        [1.00000000e+01, 7.13672667e-01, 5.00000000e-02, 2.69454235e+00],\n",
       "        [1.10000000e+01, 6.87713021e-01, 5.00000000e-02, 2.64596464e+00],\n",
       "        [1.20000000e+01, 6.62239063e-01, 5.00000000e-02, 2.59739576e+00],\n",
       "        [1.30000000e+01, 6.37250703e-01, 5.00000000e-02, 2.54883605e+00],\n",
       "        [1.40000000e+01, 6.12747844e-01, 5.00000000e-02, 2.50028586e+00],\n",
       "        [1.50000000e+01, 5.88730389e-01, 5.00000000e-02, 2.45174557e+00],\n",
       "        [1.60000000e+01, 5.65198233e-01, 5.00000000e-02, 2.40321558e+00],\n",
       "        [1.70000000e+01, 5.42151270e-01, 5.00000000e-02, 2.35469630e+00],\n",
       "        [1.80000000e+01, 5.19589388e-01, 5.00000000e-02, 2.30618819e+00],\n",
       "        [1.90000000e+01, 4.97512471e-01, 5.00000000e-02, 2.25769172e+00],\n",
       "        [2.00000000e+01, 4.75920397e-01, 5.00000000e-02, 2.20920740e+00],\n",
       "        [2.10000000e+01, 4.54813039e-01, 5.00000000e-02, 2.16073578e+00],\n",
       "        [2.20000000e+01, 4.34190265e-01, 5.00000000e-02, 2.11227742e+00],\n",
       "        [2.30000000e+01, 4.14051935e-01, 5.00000000e-02, 2.06383296e+00],\n",
       "        [2.40000000e+01, 3.94397905e-01, 5.00000000e-02, 2.01540306e+00],\n",
       "        [2.50000000e+01, 3.75228020e-01, 5.00000000e-02, 1.96698842e+00],\n",
       "        [2.60000000e+01, 3.56542122e-01, 5.00000000e-02, 1.91858982e+00],\n",
       "        [2.70000000e+01, 3.38340042e-01, 5.00000000e-02, 1.87020807e+00],\n",
       "        [2.80000000e+01, 3.20621601e-01, 5.00000000e-02, 1.82184407e+00],\n",
       "        [2.90000000e+01, 3.03386613e-01, 5.00000000e-02, 1.77349877e+00],\n",
       "        [3.00000000e+01, 2.86634881e-01, 5.00000000e-02, 1.72517323e+00],\n",
       "        [3.10000000e+01, 2.70366195e-01, 5.00000000e-02, 1.67686856e+00],\n",
       "        [3.20000000e+01, 2.54580335e-01, 5.00000000e-02, 1.62858600e+00],\n",
       "        [3.30000000e+01, 2.39277066e-01, 5.00000000e-02, 1.58032689e+00],\n",
       "        [3.40000000e+01, 2.24456139e-01, 5.00000000e-02, 1.53209269e+00],\n",
       "        [3.50000000e+01, 2.10117289e-01, 5.00000000e-02, 1.48388501e+00],\n",
       "        [3.60000000e+01, 1.96260233e-01, 5.00000000e-02, 1.43570561e+00],\n",
       "        [3.70000000e+01, 1.82884669e-01, 5.00000000e-02, 1.38755644e+00],\n",
       "        [3.80000000e+01, 1.69990272e-01, 5.00000000e-02, 1.33943966e+00],\n",
       "        [3.90000000e+01, 1.57576696e-01, 5.00000000e-02, 1.29135765e+00],\n",
       "        [4.00000000e+01, 1.45643565e-01, 5.00000000e-02, 1.24331307e+00],\n",
       "        [4.10000000e+01, 1.34190476e-01, 5.00000000e-02, 1.19530890e+00],\n",
       "        [4.20000000e+01, 1.23216991e-01, 5.00000000e-02, 1.14734849e+00],\n",
       "        [4.30000000e+01, 1.12722635e-01, 5.00000000e-02, 1.09943562e+00],\n",
       "        [4.40000000e+01, 1.02706889e-01, 5.00000000e-02, 1.05157456e+00],\n",
       "        [4.50000000e+01, 9.31691873e-02, 5.00000000e-02, 1.00377018e+00],\n",
       "        [4.60000000e+01, 8.41089063e-02, 5.00000000e-02, 9.56028100e-01],\n",
       "        [4.70000000e+01, 7.55253587e-02, 5.00000000e-02, 9.08354760e-01],\n",
       "        [4.80000000e+01, 6.74177820e-02, 5.00000000e-02, 8.60757671e-01],\n",
       "        [4.90000000e+01, 5.97853258e-02, 5.00000000e-02, 8.13245622e-01],\n",
       "        [5.00000000e+01, 5.26270358e-02, 5.00000000e-02, 7.65828993e-01],\n",
       "        [5.10000000e+01, 4.59418342e-02, 5.00000000e-02, 7.18520161e-01],\n",
       "        [5.20000000e+01, 3.97284938e-02, 5.00000000e-02, 6.71334040e-01],\n",
       "        [5.30000000e+01, 3.39856057e-02, 5.00000000e-02, 6.24288815e-01],\n",
       "        [5.40000000e+01, 2.87115361e-02, 5.00000000e-02, 5.77406955e-01],\n",
       "        [5.50000000e+01, 2.39043696e-02, 5.00000000e-02, 5.30716656e-01],\n",
       "        [5.60000000e+01, 1.95618303e-02, 5.00000000e-02, 4.84253927e-01],\n",
       "        [5.70000000e+01, 1.56811733e-02, 5.00000000e-02, 4.38065697e-01],\n",
       "        [5.80000000e+01, 1.22590271e-02, 5.00000000e-02, 3.92214623e-01],\n",
       "        [5.90000000e+01, 9.29115951e-03, 5.00000000e-02, 3.46786758e-01],\n",
       "        [6.00000000e+01, 6.77211538e-03, 5.00000000e-02, 3.01904413e-01],\n",
       "        [6.10000000e+01, 4.69462722e-03, 5.00000000e-02, 2.57748815e-01],\n",
       "        [6.20000000e+01, 3.04860083e-03, 5.00000000e-02, 2.14602640e-01],\n",
       "        [6.30000000e+01, 1.81924331e-03, 5.00000000e-02, 1.72935751e-01],\n",
       "        [6.40000000e+01, 9.83325018e-04, 5.00000000e-02, 1.33591829e-01],\n",
       "        [6.50000000e+01, 5.01163197e-04, 5.00000000e-02, 9.82161821e-02],\n",
       "        [6.60000000e+01, 2.99991965e-04, 5.00000000e-02, 7.01171232e-02],\n",
       "        [6.70000000e+01, 2.57504990e-04, 5.00000000e-02, 5.42486975e-02],\n",
       "        [6.80000000e+01, 2.54899384e-04, 5.00000000e-02, 5.02605606e-02],\n",
       "        [6.90000000e+01, 2.54843091e-04, 5.00000000e-02, 5.00056293e-02],\n",
       "        [7.00000000e+01, 2.54842019e-04, 5.00000000e-02, 5.00001073e-02],\n",
       "        [7.10000000e+01, 2.54841998e-04, 5.00000000e-02, 5.00000020e-02],\n",
       "        [7.20000000e+01, 2.54841998e-04, 5.00000000e-02, 5.00000000e-02],\n",
       "        [7.30000000e+01, 2.54841998e-04, 5.00000000e-02, 5.00000000e-02],\n",
       "        [7.40000000e+01, 2.54841998e-04, 5.00000000e-02, 5.00000000e-02],\n",
       "        [7.50000000e+01, 2.54841998e-04, 5.00000000e-02, 5.00000000e-02],\n",
       "        [7.60000000e+01, 2.54841998e-04, 5.00000000e-02, 5.00000000e-02],\n",
       "        [7.70000000e+01, 2.54841998e-04, 5.00000000e-02, 5.00000000e-02],\n",
       "        [7.80000000e+01, 2.54841998e-04, 5.00000000e-02, 5.00000000e-02],\n",
       "        [7.90000000e+01, 2.54841998e-04, 5.00000000e-02, 5.00000000e-02],\n",
       "        [8.00000000e+01, 2.54841998e-04, 5.00000000e-02, 5.00000000e-02],\n",
       "        [8.10000000e+01, 2.54841998e-04, 5.00000000e-02, 5.00000000e-02],\n",
       "        [8.20000000e+01, 2.54841998e-04, 5.00000000e-02, 5.00000000e-02],\n",
       "        [8.30000000e+01, 2.54841998e-04, 5.00000000e-02, 5.00000000e-02],\n",
       "        [8.40000000e+01, 2.54841998e-04, 5.00000000e-02, 5.00000000e-02],\n",
       "        [8.50000000e+01, 2.54841998e-04, 5.00000000e-02, 5.00000000e-02],\n",
       "        [8.60000000e+01, 2.54841998e-04, 5.00000000e-02, 5.00000000e-02],\n",
       "        [8.70000000e+01, 2.54841998e-04, 5.00000000e-02, 5.00000000e-02],\n",
       "        [8.80000000e+01, 2.54841998e-04, 5.00000000e-02, 5.00000000e-02],\n",
       "        [8.90000000e+01, 2.54841998e-04, 5.00000000e-02, 5.00000000e-02],\n",
       "        [9.00000000e+01, 2.54841998e-04, 5.00000000e-02, 5.00000000e-02],\n",
       "        [9.10000000e+01, 2.54841998e-04, 5.00000000e-02, 5.00000000e-02],\n",
       "        [9.20000000e+01, 2.54841998e-04, 5.00000000e-02, 5.00000000e-02],\n",
       "        [9.30000000e+01, 2.54841998e-04, 5.00000000e-02, 5.00000000e-02],\n",
       "        [9.40000000e+01, 2.54841998e-04, 5.00000000e-02, 5.00000000e-02],\n",
       "        [9.50000000e+01, 2.54841998e-04, 5.00000000e-02, 5.00000000e-02],\n",
       "        [9.60000000e+01, 2.54841998e-04, 5.00000000e-02, 5.00000000e-02],\n",
       "        [9.70000000e+01, 2.54841998e-04, 5.00000000e-02, 5.00000000e-02],\n",
       "        [9.80000000e+01, 2.54841998e-04, 5.00000000e-02, 5.00000000e-02],\n",
       "        [9.90000000e+01, 2.54841998e-04, 5.00000000e-02, 5.00000000e-02],\n",
       "        [1.00000000e+02, 2.54841998e-04, 5.00000000e-02, 5.00000000e-02]])}"
      ]
     },
     "execution_count": 7,
     "metadata": {},
     "output_type": "execute_result"
    }
   ],
   "source": [
    "myTank.__dict__"
   ]
  },
  {
   "cell_type": "code",
   "execution_count": 8,
   "metadata": {},
   "outputs": [],
   "source": [
    "import pandas as pd\n",
    "import seaborn as sns"
   ]
  },
  {
   "cell_type": "code",
   "execution_count": 9,
   "metadata": {},
   "outputs": [],
   "source": [
    "history = pd.DataFrame(myTank.history)\n",
    "history = history.rename(columns = dict(zip(range(history.shape[1]), ['Time', 'Height', 'Inflow', 'Outflow'])))"
   ]
  },
  {
   "cell_type": "code",
   "execution_count": 10,
   "metadata": {},
   "outputs": [
    {
     "data": {
      "text/html": [
       "<div>\n",
       "<style scoped>\n",
       "    .dataframe tbody tr th:only-of-type {\n",
       "        vertical-align: middle;\n",
       "    }\n",
       "\n",
       "    .dataframe tbody tr th {\n",
       "        vertical-align: top;\n",
       "    }\n",
       "\n",
       "    .dataframe thead th {\n",
       "        text-align: right;\n",
       "    }\n",
       "</style>\n",
       "<table border=\"1\" class=\"dataframe\">\n",
       "  <thead>\n",
       "    <tr style=\"text-align: right;\">\n",
       "      <th></th>\n",
       "      <th>Time</th>\n",
       "      <th>Height</th>\n",
       "      <th>Inflow</th>\n",
       "      <th>Outflow</th>\n",
       "    </tr>\n",
       "  </thead>\n",
       "  <tbody>\n",
       "    <tr>\n",
       "      <td>0</td>\n",
       "      <td>0.0</td>\n",
       "      <td>1.000000</td>\n",
       "      <td>0.05</td>\n",
       "      <td>3.132092</td>\n",
       "    </tr>\n",
       "    <tr>\n",
       "      <td>1</td>\n",
       "      <td>1.0</td>\n",
       "      <td>0.969179</td>\n",
       "      <td>0.05</td>\n",
       "      <td>3.132092</td>\n",
       "    </tr>\n",
       "    <tr>\n",
       "      <td>2</td>\n",
       "      <td>2.0</td>\n",
       "      <td>0.938845</td>\n",
       "      <td>0.05</td>\n",
       "      <td>3.083447</td>\n",
       "    </tr>\n",
       "    <tr>\n",
       "      <td>3</td>\n",
       "      <td>3.0</td>\n",
       "      <td>0.908997</td>\n",
       "      <td>0.05</td>\n",
       "      <td>3.034809</td>\n",
       "    </tr>\n",
       "    <tr>\n",
       "      <td>4</td>\n",
       "      <td>4.0</td>\n",
       "      <td>0.879635</td>\n",
       "      <td>0.05</td>\n",
       "      <td>2.986177</td>\n",
       "    </tr>\n",
       "  </tbody>\n",
       "</table>\n",
       "</div>"
      ],
      "text/plain": [
       "   Time    Height  Inflow   Outflow\n",
       "0   0.0  1.000000    0.05  3.132092\n",
       "1   1.0  0.969179    0.05  3.132092\n",
       "2   2.0  0.938845    0.05  3.083447\n",
       "3   3.0  0.908997    0.05  3.034809\n",
       "4   4.0  0.879635    0.05  2.986177"
      ]
     },
     "execution_count": 10,
     "metadata": {},
     "output_type": "execute_result"
    }
   ],
   "source": [
    "history.head()"
   ]
  },
  {
   "cell_type": "code",
   "execution_count": 11,
   "metadata": {},
   "outputs": [
    {
     "data": {
      "text/plain": [
       "<matplotlib.axes._subplots.AxesSubplot at 0x15b639a5688>"
      ]
     },
     "execution_count": 11,
     "metadata": {},
     "output_type": "execute_result"
    },
    {
     "data": {
      "image/png": "[encoded data removed]",
      "text/plain": [
       "<Figure size 432x288 with 1 Axes>"
      ]
     },
     "metadata": {
      "needs_background": "light"
     },
     "output_type": "display_data"
    }
   ],
   "source": [
    "sns.lineplot(data = history['Height'])"
   ]
  },
  {
   "cell_type": "code",
   "execution_count": 13,
   "metadata": {},
   "outputs": [],
   "source": [
    "tanks = {}\n",
    "for i in range(3):\n",
    "    tanks[i] = Tank()"
   ]
  },
  {
   "cell_type": "code",
   "execution_count": 14,
   "metadata": {},
   "outputs": [
    {
     "data": {
      "text/plain": [
       "{0: <tank.Tank at 0x15b64d9d508>,\n",
       " 1: <tank.Tank at 0x15b64d9d548>,\n",
       " 2: <tank.Tank at 0x15b64d9d588>}"
      ]
     },
     "execution_count": 14,
     "metadata": {},
     "output_type": "execute_result"
    }
   ],
   "source": [
    "tanks"
   ]
  },
  {
   "cell_type": "code",
   "execution_count": null,
   "metadata": {},
   "outputs": [],
   "source": []
  }
 ],
 "metadata": {
  "kernelspec": {
   "display_name": "Python 3",
   "language": "python",
   "name": "python3"
  },
  "language_info": {
   "codemirror_mode": {
    "name": "ipython",
    "version": 3
   },
   "file_extension": ".py",
   "mimetype": "text/x-python",
   "name": "python",
   "nbconvert_exporter": "python",
   "pygments_lexer": "ipython3",
   "version": "3.7.4"
  }
 },
 "nbformat": 4,
 "nbformat_minor": 2
}
